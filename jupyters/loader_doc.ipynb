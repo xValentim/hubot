{
 "cells": [
  {
   "cell_type": "code",
   "execution_count": 1,
   "metadata": {},
   "outputs": [],
   "source": [
    "from langchain_community.vectorstores import FAISS\n",
    "from langchain_openai import ChatOpenAI, OpenAIEmbeddings\n",
    "from langchain_core.messages import SystemMessage, HumanMessage, AIMessage\n",
    "from langchain_core.output_parsers import StrOutputParser\n",
    "from langchain_core.prompts import ChatPromptTemplate\n",
    "from langchain_core.runnables import RunnablePassthrough, RunnableLambda\n",
    "from operator import itemgetter\n",
    "import base64\n",
    "from pathlib import Path\n",
    "\n",
    "from langchain_text_splitters import CharacterTextSplitter, RecursiveCharacterTextSplitter\n",
    "\n",
    "from langchain_community.document_loaders import Docx2txtLoader\n",
    "from langchain_experimental.text_splitter import SemanticChunker"
   ]
  },
  {
   "cell_type": "code",
   "execution_count": 2,
   "metadata": {},
   "outputs": [
    {
     "data": {
      "text/plain": [
       "True"
      ]
     },
     "execution_count": 2,
     "metadata": {},
     "output_type": "execute_result"
    }
   ],
   "source": [
    "from dotenv import load_dotenv\n",
    "\n",
    "load_dotenv()"
   ]
  },
  {
   "cell_type": "code",
   "execution_count": 3,
   "metadata": {},
   "outputs": [],
   "source": [
    "from langchain_text_splitters import CharacterTextSplitter\n",
    "\n",
    "text_splitter = CharacterTextSplitter(\n",
    "    separator=\"\\n\\n\",\n",
    "    chunk_size=3000,\n",
    "    chunk_overlap=100,\n",
    "    length_function=len,\n",
    "    is_separator_regex=False,\n",
    ")"
   ]
  },
  {
   "cell_type": "code",
   "execution_count": 4,
   "metadata": {},
   "outputs": [],
   "source": [
    "embeddings = OpenAIEmbeddings(model=\"text-embedding-3-large\")"
   ]
  },
  {
   "cell_type": "code",
   "execution_count": 5,
   "metadata": {},
   "outputs": [
    {
     "name": "stdout",
     "output_type": "stream",
     "text": [
      "1\n",
      "7\n"
     ]
    }
   ],
   "source": [
    "import json\n",
    "from langchain_core.documents import Document\n",
    "\n",
    "with open(\"data/hub_empreendedorismo.json\") as f:\n",
    "    data = json.load(f)\n",
    "\n",
    "data_ = [Document(page_content=d[\"page_content\"], metadata = d[\"metadata\"]) for d in data]\n",
    "data = [{\"page_content\": d[\"page_content\"].replace(\"\\n\\n\\n\", \"\\n\"), \"metadata\": d[\"metadata\"]} for d in data]\n",
    "data_ = [Document(page_content=d[\"page_content\"], metadata = d[\"metadata\"]) for d in data]\n",
    "print(len(data_))\n",
    "data_e = text_splitter.split_documents(data_)\n",
    "print(len(data_e))\n",
    "# db_emp = FAISS.from_documents(data_, embeddings)"
   ]
  },
  {
   "cell_type": "code",
   "execution_count": 6,
   "metadata": {},
   "outputs": [
    {
     "name": "stdout",
     "output_type": "stream",
     "text": [
      "1\n",
      "38\n"
     ]
    }
   ],
   "source": [
    "with open(\"data\\hub_institucional.json\") as f:\n",
    "    data = json.load(f)\n",
    "\n",
    "data = [{\"page_content\": d[\"page_content\"].replace(\"\\n\\n\\n\", \"\\n\"), \"metadata\": d[\"metadata\"]} for d in data]\n",
    "data_ = [Document(page_content=d[\"page_content\"], metadata = d[\"metadata\"]) for d in data]\n",
    "print(len(data_))\n",
    "data_i = text_splitter.split_documents(data_)\n",
    "print(len(data_i))\n",
    "# db_hubi = FAISS.from_documents(data_, embeddings)"
   ]
  },
  {
   "cell_type": "code",
   "execution_count": 7,
   "metadata": {},
   "outputs": [
    {
     "name": "stderr",
     "output_type": "stream",
     "text": [
      "Created a chunk of size 3233, which is longer than the specified 3000\n"
     ]
    },
    {
     "name": "stdout",
     "output_type": "stream",
     "text": [
      "139\n",
      "301\n"
     ]
    }
   ],
   "source": [
    "with open(\"data\\hub_news.json\") as f:\n",
    "    data = json.load(f)\n",
    "\n",
    "data = [{\"page_content\": d[\"page_content\"].replace(\"\\n\\n\\n\", \"\\n\"), \"metadata\": d[\"metadata\"]} for d in data]\n",
    "data_ = [Document(page_content=d[\"page_content\"], metadata = d[\"metadata\"]) for d in data]\n",
    "print(len(data_))\n",
    "data_ = text_splitter.split_documents(data_)\n",
    "print(len(data_))\n",
    "# db_news = FAISS.from_documents(data_, embeddings)"
   ]
  },
  {
   "cell_type": "code",
   "execution_count": 8,
   "metadata": {},
   "outputs": [
    {
     "name": "stdout",
     "output_type": "stream",
     "text": [
      "1\n",
      "2\n"
     ]
    }
   ],
   "source": [
    "with open(\"data\\hub_on.json\") as f:\n",
    "    data = json.load(f)\n",
    "data = [{\"page_content\": d[\"page_content\"].replace(\"\\n\\n\\n\", \"\\n\"), \"metadata\": d[\"metadata\"]} for d in data]\n",
    "data_ = [Document(page_content=d[\"page_content\"], metadata = d[\"metadata\"]) for d in data]\n",
    "print(len(data_))\n",
    "data_o = text_splitter.split_documents(data_)\n",
    "print(len(data_o))\n",
    "# db_hubo = FAISS.from_documents(data_, embeddings)"
   ]
  },
  {
   "cell_type": "code",
   "execution_count": 9,
   "metadata": {},
   "outputs": [
    {
     "name": "stdout",
     "output_type": "stream",
     "text": [
      "22\n",
      "24\n"
     ]
    }
   ],
   "source": [
    "with open(\"data\\hub_rep.json\") as f:\n",
    "    data = json.load(f)\n",
    "data = [{\"page_content\": d[\"page_content\"].replace(\"\\n\\n\\n\", \"\\n\"), \"metadata\": d[\"metadata\"]} for d in data]\n",
    "data_ = [Document(page_content=d[\"page_content\"], metadata = d[\"metadata\"]) for d in data]\n",
    "print(len(data_))\n",
    "data_r = text_splitter.split_documents(data_)\n",
    "print(len(data_r))\n",
    "# db_hubr = FAISS.from_documents(data_, embeddings)"
   ]
  },
  {
   "cell_type": "code",
   "execution_count": 15,
   "metadata": {},
   "outputs": [
    {
     "name": "stdout",
     "output_type": "stream",
     "text": [
      "62\n",
      "62\n"
     ]
    }
   ],
   "source": [
    "with open(\"data\\hub_social.json\") as f:\n",
    "    data = json.load(f)\n",
    "data = [{\"page_content\": d[\"page_content\"].replace(\"\\n\\n\\n\", \"\\n\"), \"metadata\": d[\"metadata\"]} for d in data]\n",
    "data_ = [Document(page_content=d[\"page_content\"], metadata = d[\"metadata\"]) for d in data]\n",
    "print(len(data_))\n",
    "data_s = text_splitter.split_documents(data_)\n",
    "print(len(data_s))\n",
    "# db_hubs = FAISS.from_documents(data_, embeddings)"
   ]
  },
  {
   "cell_type": "code",
   "execution_count": 11,
   "metadata": {},
   "outputs": [
    {
     "name": "stdout",
     "output_type": "stream",
     "text": [
      "486\n",
      "486\n"
     ]
    }
   ],
   "source": [
    "with open(\"data\\hub_webinars.json\") as f:\n",
    "    data = json.load(f)\n",
    "data = [{\"page_content\": d[\"page_content\"].replace(\"\\n\\n\\n\", \"\\n\"), \"metadata\": d[\"metadata\"]} for d in data]\n",
    "data_ = [Document(page_content=d[\"page_content\"], metadata = d[\"metadata\"]) for d in data]\n",
    "print(len(data_))\n",
    "data_we = text_splitter.split_documents(data_)\n",
    "print(len(data_we))\n",
    "# db_hubw = FAISS.from_documents(data_, embeddings)"
   ]
  },
  {
   "cell_type": "code",
   "execution_count": 12,
   "metadata": {},
   "outputs": [
    {
     "name": "stdout",
     "output_type": "stream",
     "text": [
      "1\n",
      "5\n"
     ]
    }
   ],
   "source": [
    "with open(\"data\\hub_women.json\") as f:\n",
    "    data = json.load(f)\n",
    "data = [{\"page_content\": d[\"page_content\"].replace(\"\\n\\n\\n\", \"\\n\"), \"metadata\": d[\"metadata\"]} for d in data]\n",
    "data_ = [Document(page_content=d[\"page_content\"], metadata = d[\"metadata\"]) for d in data]\n",
    "print(len(data_))\n",
    "data_w = text_splitter.split_documents(data_)\n",
    "print(len(data_w))\n",
    "# db_hubwo = FAISS.from_documents(data_, embeddings)"
   ]
  },
  {
   "cell_type": "code",
   "execution_count": 18,
   "metadata": {},
   "outputs": [],
   "source": [
    "dp_projects = data_w + data_o + data_r\n",
    "db_projects = FAISS.from_documents(dp_projects, embeddings)\n"
   ]
  },
  {
   "cell_type": "code",
   "execution_count": 16,
   "metadata": {},
   "outputs": [],
   "source": [
    "db_webinars = FAISS.from_documents(data_we, embeddings)\n",
    "db_news = FAISS.from_documents(data_, embeddings)\n",
    "db_institucional = FAISS.from_documents(data_i, embeddings)\n",
    "db_empreendedorismo = FAISS.from_documents(data_e, embeddings)\n",
    "db_social = FAISS.from_documents(data_s, embeddings)"
   ]
  },
  {
   "cell_type": "code",
   "execution_count": 19,
   "metadata": {},
   "outputs": [],
   "source": [
    "db_projects.save_local(\"vectorstore/hub_projects\")\n",
    "db_webinars.save_local(\"vectorstore/hub_webinars\")\n",
    "db_news.save_local(\"vectorstore/hub_news\")\n",
    "db_institucional.save_local(\"vectorstore/hub_institucional\")\n",
    "db_empreendedorismo.save_local(\"vectorstore/hub_empreendedorismo\")\n",
    "db_social.save_local(\"vectorstore/hub_social\")"
   ]
  },
  {
   "cell_type": "code",
   "execution_count": 20,
   "metadata": {},
   "outputs": [],
   "source": [
    "retrievers = [db_projects, db_webinars, db_news, db_institucional, db_empreendedorismo, db_social]"
   ]
  },
  {
   "cell_type": "code",
   "execution_count": 36,
   "metadata": {},
   "outputs": [],
   "source": [
    "retrievers = [db_institucional, db_empreendedorismo, db_webinars, db_news, db_projects, db_social]"
   ]
  },
  {
   "cell_type": "code",
   "execution_count": 25,
   "metadata": {},
   "outputs": [],
   "source": [
    "rules_verifier = \"\"\"\n",
    "    Você é um agente classificador de querys. Seu trabalho é verificar se os documentos retornados por um sistema de recuperação de informação são relevantes para a query feita pelo usuário.\n",
    "    Para isso, você deve seguir as seguintes regras:\n",
    "\n",
    "    1. Se o documento retornado pelo sistema é relevante, você deve retornar a mensagem \"Relevante\".\n",
    "    2. Se o documento retornado pelo sistema não é relevante, você deve retornar a mensagem \"Não relevante\".\n",
    "\n",
    "    Aqui estão os documentos retornados pelo sistema:\n",
    "    {documents}\n",
    "    A query feita pelo usuário foi:\n",
    "    {query}\n",
    "\n",
    "    Responda se os documentos são relevantes ou não para a query.\n",
    "\"\"\"\n",
    "\n",
    "llm = ChatOpenAI(temperature=0.02, model=\"gpt-4o-mini\")\n",
    "\n",
    "prompt = ChatPromptTemplate.from_messages([('system', rules_verifier)])\n",
    "\n",
    "ver_agent = prompt | llm | StrOutputParser() \n",
    "\n",
    "def verifier(query, documents):\n",
    "    \n",
    "    statement = ver_agent.invoke(input={\"documents\": documents, \"query\": query})\n",
    "    return statement"
   ]
  },
  {
   "cell_type": "code",
   "execution_count": 37,
   "metadata": {},
   "outputs": [],
   "source": [
    "def ret_agent(query, retrievers = retrievers, i = 0):\n",
    "    retriever = retrievers[i].as_retriever(search_kwargs={\"k\": 2})\n",
    "    results = retriever.invoke(query)\n",
    "    return results"
   ]
  },
  {
   "cell_type": "code",
   "execution_count": 62,
   "metadata": {},
   "outputs": [],
   "source": [
    "q = \"Me dê a lista de eventos do Women in Tech.\"\n",
    "\n",
    "def format_docs(docs):\n",
    "    return \"\\n\\n\".join([d.page_content for d in docs])\n",
    "\n",
    "def get_retriever(q):\n",
    "    results = ret_agent(q)\n",
    "    i=0\n",
    "    while verifier(q, results) == \"Não relevante\":\n",
    "        i+=1\n",
    "        if i == 6:\n",
    "            return \"Não há documentos relevantes para essa query.\"\n",
    "        results = ret_agent(q, i=i)\n",
    "        \n",
    "    return format_docs(results)\n",
    "    "
   ]
  },
  {
   "cell_type": "code",
   "execution_count": 63,
   "metadata": {},
   "outputs": [
    {
     "name": "stdout",
     "output_type": "stream",
     "text": [
      "Data de publicação:27/08/2023\n",
      "\n",
      "Link: https://www.instagram.com/p/CwdUj0ALaUm/\n",
      "\n",
      "Venha comemorar o primeiro ano da iniciativa Women in Tech!\n",
      "\n",
      " \n",
      "\n",
      "Será uma noite de comemorações, repleta de conhecimento e troca de experiências, em que serão divulgados os resultados gerados neste primeiro ano.\n",
      "\n",
      " \n",
      "\n",
      "Inscreva-se e participe!\n",
      "\n",
      " \n",
      "\n",
      "🕛 Horário: 18h30 às 21h30\n",
      "\n",
      "🗺 Local: Auditório Steffi e Max Perlman - Térreo - Insper | Rua Quatá, 300\n",
      "\n",
      " \n",
      "\n",
      "Veja mais informações e inscreva-se pelo link na bio.\n",
      "\n",
      " \n",
      "\n",
      "#SomosInsper #WomenInTech #EventosInsper #EventoMulheres #Women\n",
      "\n",
      " \n",
      "\n",
      "#PraCegoVer #PraTodosVerem Imagem com fundo na cor dourada referente ao 1º Encontro Connect & Play by Women in Tech.\n",
      "\n",
      "Data de publicação: 29/05/2023\n",
      "\n",
      "Link: https://www.instagram.com/p/Cs0jyY_NNQW/\n",
      "\n",
      "Participe de mais uma edição da roda de conversa do Women in Tech!\n",
      "\n",
      " \n",
      "\n",
      "A Roda de Conversa receberá como convidada Kamila Camilo, ativista e empreendedora social e será mediada por Sthefanny Cavalcante, aluna do 3º semestre de Direito.\n",
      "\n",
      " \n",
      "\n",
      "Conheça histórias de empoderamento e representatividade, e discutir temas como carreira, vida pessoal e perspectivas para o futuro feminino.\n",
      "\n",
      " \n",
      "\n",
      "Venha conversar e refletir com outras mulheres inspiradoras.\n",
      "\n",
      "Clique no link na bio e inscreva-se!\n",
      "\n",
      " \n",
      "\n",
      "Data: 29 de maio\n",
      "\n",
      "Horário: 19h às 21h\n",
      "\n",
      "Local: sala 112 – 1º andar – Prédio 2\n",
      "\n",
      "Insper - Rua Quatá, 200\n",
      "\n",
      " \n",
      "\n",
      "#RodadeConversa #WomenInTech #EmpoderamentoFeminino #MulheresNaTecnlogia\n",
      "\n",
      " \n",
      "\n",
      "#PraCegoVer #PraTodosVerem Ilustração com fundo na cor bordô e texto na cor branca. No texto, lê-se \"Roda de Conversa - Women In Tech - Empoderamento, representatividade, carreira e perspectiva para o futuro feminino no mercado de trabalho\". Ao lado direito do texto, há fotos, cargos e nomes das palestrante.\n"
     ]
    }
   ],
   "source": [
    "print(get_retriever(q))"
   ]
  },
  {
   "cell_type": "code",
   "execution_count": 51,
   "metadata": {},
   "outputs": [],
   "source": [
    "all_messages = [\n",
    "        ('system', \"\"\"\n",
    "                    Você é um assistente do Hub de inovação do Insper. \n",
    "                    Você vai responder perguntas sobre Startups e Empreendedorismo. \n",
    "                    Se apresente e diga como você pode ajudar.\"\"\"),\n",
    "        ('system', \"Aqui está o contexto adicional de videos no YouYube: {all_content}\" +  \"\\n\\n\" + \\\n",
    "                    \"\"\"Sempre que possível, cite fontes de onde você está tirando a informação de posts em redes socias e youtube. \n",
    "                    Somente cite fontes dos documentos fornecidos acima.\"\"\"),\n",
    "        ('system', \"Aqui está a questão do usuário: {user_query}\"),\n",
    "        ('system', \"Sempre responda no idioma português\"),\n",
    "        ('system', \"Toda vez que alguém fizer perguntas relacionadas ao Hub você deve responder em primeira pessoa no plural usando 'Somos','Fazemos”,'criamos”,'realizamos”,'executamos'.\"),\n",
    "        ('system', \"Para todo comando inicial você deve estruturar uma resposta clara e objetiva.\"),\n",
    "        ('system', \"Use um tom mais formal e neutro, sendo objetivo e assertivo\"),\n",
    "        ('system', \"O CEMP (Centro de Empreendedorismo) é chamado Hub de Inovação Paulo Cunha a partir de 2023, sempre o chame assim e informe a mudança de nome quando citado\"),\n",
    "        ('system', \"O PFE (Projeto Final de Engenharia) é chamado Capstone a partir do 2º semestre de 2024, sempre o chame assim e informe a mudança de nome quando citado.\"),\n",
    "        ('system', \"Responsável pelo empreendedorismo no Hub: Thomaz Martins (Coordenador)\"),\n",
    "        ('system', \"Responsável pela Comunidade do Hub: O Hub conta com uma equipe de Community managers liderada pelo David Palácio\"),\n",
    "        ('system', \"\"\"O que é o pilar de projetos de inovação com organizações parceiras: \n",
    "\t                -Essa nomenclatura faz referência a vários nomes, tais como: Inovação com organizações parceiras, inovação com parceiros, inovação com grandes empresas, projetos de inovação, inovação em pesquisa e desenvolvimento. \n",
    "\t                -É o pilar onde o hub apoia empresas privadas, públicas e organizações de maneira geral em ações e projetos de inovação.\"\"\"),\n",
    "        ('system', \"Todas as empresas que apostam na inovação e querem se conectar ao Insper podem fazer projetos de inovação com o Hub. Existem projetos pagos, projetos com apoio de fomentos, projetos por doação e projetos acadêmicos gratuitos.\"),\n",
    "        ('system', \"\"\"Responsáveis pelo pilar de projetos de inovação com organizações parceiras:\n",
    "                    Rodrigo Amantea (Head)\n",
    "                    Carolina Fouad (Gerente de projetos de inovação)\n",
    "                    Raphael Galdino (Coordenador técnico)\"\"\"),\n",
    "        ('system', \"\"\"Responsáveis pelo pilar projetos acadêmicos de Inovação:\n",
    "                    Carolina Fouad (Gerente de projetos de inovação)\n",
    "                    Bruna Reis Morimotto (Analista de Projetos e Inovação)\"\"\"),\n",
    "        ('system', \"Os alunos e alumni Insper não tem nenhum custo extra para usar o coworking, receber mentorias e participar do programa de aceleração até o momento.\"),\n",
    "        ('system', \"Apenas para alunos, pós e alumni: Todas as segundas-feiras temos sessões informativas para os alunos da graduação às 12h e para pós e alumni às 18h\"),\n",
    "    ]\n",
    "    \n",
    "llm = ChatOpenAI(temperature=0.05, model=\"gpt-4o-mini-2024-07-18\")\n",
    "\n",
    "prompt = ChatPromptTemplate.from_messages(all_messages)\n",
    "\n",
    "chatbot = {\"user_query\": RunnablePassthrough(), \"all_content\": RunnableLambda(get_retriever)} | prompt | llm | StrOutputParser()\n"
   ]
  },
  {
   "cell_type": "code",
   "execution_count": 61,
   "metadata": {},
   "outputs": [
    {
     "data": {
      "text/plain": [
       "'Nós somos o Hub de Inovação Paulo Cunha do Insper e estamos aqui para ajudar com informações sobre startups e empreendedorismo. \\n\\nEm relação aos eventos do Women in Tech, temos duas iniciativas recentes:\\n\\n1. **1º Encontro Connect & Play by Women in Tech**\\n   - **Data:** 27 de agosto de 2023\\n   - **Horário:** 18h30 às 21h30\\n   - **Local:** Auditório Steffi e Max Perlman - Térreo - Insper, Rua Quatá, 300\\n   - **Descrição:** Uma noite de comemorações, repleta de conhecimento e troca de experiências, onde serão divulgados os resultados gerados neste primeiro ano.\\n\\n2. **Roda de Conversa do Women in Tech**\\n   - **Data:** 29 de maio de 2023\\n   - **Horário:** 19h às 21h\\n   - **Local:** Sala 112 – 1º andar – Prédio 2, Insper, Rua Quatá, 200\\n   - **Descrição:** A roda de conversa contará com a presença de Kamila Camilo, ativista e empreendedora social, mediada por Sthefanny Cavalcante, abordando temas como empoderamento e representatividade.\\n\\nSe precisar de mais informações ou detalhes sobre outros eventos, estamos à disposição para ajudar!'"
      ]
     },
     "execution_count": 61,
     "metadata": {},
     "output_type": "execute_result"
    }
   ],
   "source": [
    "q = \"Me dê a lista de eventos do Women in Tech.\"\n",
    "chatbot.invoke(q)"
   ]
  },
  {
   "cell_type": "code",
   "execution_count": 56,
   "metadata": {},
   "outputs": [
    {
     "data": {
      "text/plain": [
       "'Relevante'"
      ]
     },
     "execution_count": 56,
     "metadata": {},
     "output_type": "execute_result"
    }
   ],
   "source": [
    "q = \"O que é o hub de Inovações?\"\n",
    "\n",
    "def format_docs(docs):\n",
    "    return \"\\n\\n\".join([d.page_content for d in docs])\n",
    "\n",
    "agent_ver = {\"query\": RunnablePassthrough(),\n",
    "             \"documents\": ret_agent | RunnableLambda(format_docs),\n",
    "             } | prompt | llm | StrOutputParser()\n",
    "\n",
    "agent_ver.invoke(q)\n"
   ]
  },
  {
   "cell_type": "code",
   "execution_count": null,
   "metadata": {},
   "outputs": [],
   "source": []
  }
 ],
 "metadata": {
  "kernelspec": {
   "display_name": ".venv",
   "language": "python",
   "name": "python3"
  },
  "language_info": {
   "codemirror_mode": {
    "name": "ipython",
    "version": 3
   },
   "file_extension": ".py",
   "mimetype": "text/x-python",
   "name": "python",
   "nbconvert_exporter": "python",
   "pygments_lexer": "ipython3",
   "version": "3.10.4"
  }
 },
 "nbformat": 4,
 "nbformat_minor": 2
}
